{
 "cells": [
  {
   "cell_type": "code",
   "execution_count": 1,
   "metadata": {
    "execution": {
     "iopub.execute_input": "2025-03-10T09:50:36.978125Z",
     "iopub.status.busy": "2025-03-10T09:50:36.977846Z",
     "iopub.status.idle": "2025-03-10T09:50:43.519291Z",
     "shell.execute_reply": "2025-03-10T09:50:43.518635Z",
     "shell.execute_reply.started": "2025-03-10T09:50:36.978103Z"
    },
    "trusted": true
   },
   "outputs": [],
   "source": [
    "import torch\n",
    "import torchvision\n",
    "import numpy as np\n",
    "import pandas as pd\n",
    "import matplotlib.pyplot as plt\n",
    "import time\n",
    "import copy\n",
    "import os\n",
    "import json\n",
    "\n",
    "from torch import nn, optim\n",
    "from torch.utils.data import DataLoader, Subset, random_split\n",
    "from torchvision import datasets, models, transforms\n",
    "from torchvision.datasets import ImageFolder\n",
    "from torchsummary import summary\n",
    "from collections import Counter\n",
    "from PIL import Image\n",
    "\n",
    "from sklearn.model_selection import train_test_split, StratifiedKFold, StratifiedShuffleSplit\n",
    "from sklearn.metrics import (\n",
    "    accuracy_score,\n",
    "    balanced_accuracy_score,\n",
    "    f1_score,\n",
    "    matthews_corrcoef,\n",
    "    roc_auc_score,\n",
    "    precision_recall_curve,\n",
    "    auc,\n",
    "    confusion_matrix,\n",
    ")"
   ]
  },
  {
   "cell_type": "code",
   "execution_count": 2,
   "metadata": {
    "execution": {
     "iopub.execute_input": "2025-03-10T09:50:48.299208Z",
     "iopub.status.busy": "2025-03-10T09:50:48.298773Z",
     "iopub.status.idle": "2025-03-10T09:50:59.522205Z",
     "shell.execute_reply": "2025-03-10T09:50:59.521297Z",
     "shell.execute_reply.started": "2025-03-10T09:50:48.299182Z"
    },
    "trusted": true
   },
   "outputs": [
    {
     "name": "stdout",
     "output_type": "stream",
     "text": [
      "Total number of files: 6558\n"
     ]
    }
   ],
   "source": [
    "file_count = 0\n",
    "for dirname, _, filenames in os.walk('/kaggle/input'):\n",
    "    file_count += len(filenames)\n",
    "\n",
    "print(f\"Total number of files: {file_count}\")"
   ]
  },
  {
   "cell_type": "code",
   "execution_count": 3,
   "metadata": {
    "execution": {
     "iopub.execute_input": "2025-03-10T09:51:05.043570Z",
     "iopub.status.busy": "2025-03-10T09:51:05.043271Z",
     "iopub.status.idle": "2025-03-10T09:51:05.047157Z",
     "shell.execute_reply": "2025-03-10T09:51:05.046255Z",
     "shell.execute_reply.started": "2025-03-10T09:51:05.043529Z"
    },
    "trusted": true
   },
   "outputs": [],
   "source": [
    "# Define the dataset folder\n",
    "data_folder = '/kaggle/input/glioma-mcd-2025/Data_122824/Glioma_MDC_2025_training'"
   ]
  },
  {
   "cell_type": "code",
   "execution_count": 4,
   "metadata": {
    "execution": {
     "iopub.execute_input": "2025-03-10T09:51:08.388301Z",
     "iopub.status.busy": "2025-03-10T09:51:08.388000Z",
     "iopub.status.idle": "2025-03-10T09:51:18.273854Z",
     "shell.execute_reply": "2025-03-10T09:51:18.273172Z",
     "shell.execute_reply.started": "2025-03-10T09:51:08.388279Z"
    },
    "trusted": true
   },
   "outputs": [],
   "source": [
    "json_files = sorted([f for f in os.listdir(data_folder) if f.endswith(\".json\")])\n",
    "\n",
    "data = []\n",
    "\n",
    "# Counting mitosis and non-mitosis regions per image using JSONs\n",
    "for json_file in json_files:\n",
    "    image_name = json_file.replace(\".json\", \".jpg\")\n",
    "    with open(os.path.join(data_folder, json_file), \"r\") as f:\n",
    "        json_data = json.load(f)\n",
    "    \n",
    "    mitosis_count = sum(1 for shape in json_data[\"shapes\"] if shape[\"label\"] == \"Mitosis\")\n",
    "    non_mitosis_count = sum(1 for shape in json_data[\"shapes\"] if shape[\"label\"] == \"Non-mitosis\")\n",
    "    \n",
    "    if mitosis_count > 0 and non_mitosis_count > 0:\n",
    "        category = \"mixed\"\n",
    "    elif mitosis_count > 0:\n",
    "        category = \"mitosis\"\n",
    "    else:\n",
    "        category = \"non-mitosis\"\n",
    "    \n",
    "    data.append([image_name, json_file, mitosis_count, non_mitosis_count, category])\n",
    "\n",
    "df = pd.DataFrame(data, columns=[\"image\", \"json\", \"mitosis_count\", \"non_mitosis_count\", \"category\"])"
   ]
  },
  {
   "cell_type": "code",
   "execution_count": 5,
   "metadata": {
    "execution": {
     "iopub.execute_input": "2025-03-10T09:51:22.897300Z",
     "iopub.status.busy": "2025-03-10T09:51:22.897023Z",
     "iopub.status.idle": "2025-03-10T09:51:22.914800Z",
     "shell.execute_reply": "2025-03-10T09:51:22.913941Z",
     "shell.execute_reply.started": "2025-03-10T09:51:22.897282Z"
    },
    "trusted": true
   },
   "outputs": [],
   "source": [
    "# Stratified split to avoid biases from labels\n",
    "splitter = StratifiedShuffleSplit(n_splits=1, test_size=0.2, random_state=42)\n",
    "train_idx, val_idx = next(splitter.split(df, df[\"category\"]))\n",
    "\n",
    "train_df = df.iloc[train_idx]\n",
    "val_df = df.iloc[val_idx]"
   ]
  },
  {
   "cell_type": "code",
   "execution_count": 6,
   "metadata": {
    "execution": {
     "iopub.execute_input": "2025-03-10T09:51:31.386249Z",
     "iopub.status.busy": "2025-03-10T09:51:31.385959Z",
     "iopub.status.idle": "2025-03-10T09:51:31.408672Z",
     "shell.execute_reply": "2025-03-10T09:51:31.407669Z",
     "shell.execute_reply.started": "2025-03-10T09:51:31.386227Z"
    },
    "trusted": true
   },
   "outputs": [
    {
     "data": {
      "text/html": [
       "<div>\n",
       "<style scoped>\n",
       "    .dataframe tbody tr th:only-of-type {\n",
       "        vertical-align: middle;\n",
       "    }\n",
       "\n",
       "    .dataframe tbody tr th {\n",
       "        vertical-align: top;\n",
       "    }\n",
       "\n",
       "    .dataframe thead th {\n",
       "        text-align: right;\n",
       "    }\n",
       "</style>\n",
       "<table border=\"1\" class=\"dataframe\">\n",
       "  <thead>\n",
       "    <tr style=\"text-align: right;\">\n",
       "      <th></th>\n",
       "      <th>image</th>\n",
       "      <th>json</th>\n",
       "      <th>mitosis_count</th>\n",
       "      <th>non_mitosis_count</th>\n",
       "      <th>category</th>\n",
       "    </tr>\n",
       "  </thead>\n",
       "  <tbody>\n",
       "    <tr>\n",
       "      <th>3</th>\n",
       "      <td>training0004.jpg</td>\n",
       "      <td>training0004.json</td>\n",
       "      <td>1</td>\n",
       "      <td>1</td>\n",
       "      <td>mixed</td>\n",
       "    </tr>\n",
       "    <tr>\n",
       "      <th>190</th>\n",
       "      <td>training0191.jpg</td>\n",
       "      <td>training0191.json</td>\n",
       "      <td>1</td>\n",
       "      <td>0</td>\n",
       "      <td>mitosis</td>\n",
       "    </tr>\n",
       "    <tr>\n",
       "      <th>1355</th>\n",
       "      <td>training1356.jpg</td>\n",
       "      <td>training1356.json</td>\n",
       "      <td>1</td>\n",
       "      <td>0</td>\n",
       "      <td>mitosis</td>\n",
       "    </tr>\n",
       "    <tr>\n",
       "      <th>793</th>\n",
       "      <td>training0794.jpg</td>\n",
       "      <td>training0794.json</td>\n",
       "      <td>1</td>\n",
       "      <td>0</td>\n",
       "      <td>mitosis</td>\n",
       "    </tr>\n",
       "    <tr>\n",
       "      <th>1342</th>\n",
       "      <td>training1343.jpg</td>\n",
       "      <td>training1343.json</td>\n",
       "      <td>1</td>\n",
       "      <td>0</td>\n",
       "      <td>mitosis</td>\n",
       "    </tr>\n",
       "    <tr>\n",
       "      <th>...</th>\n",
       "      <td>...</td>\n",
       "      <td>...</td>\n",
       "      <td>...</td>\n",
       "      <td>...</td>\n",
       "      <td>...</td>\n",
       "    </tr>\n",
       "    <tr>\n",
       "      <th>452</th>\n",
       "      <td>training0453.jpg</td>\n",
       "      <td>training0453.json</td>\n",
       "      <td>1</td>\n",
       "      <td>0</td>\n",
       "      <td>mitosis</td>\n",
       "    </tr>\n",
       "    <tr>\n",
       "      <th>327</th>\n",
       "      <td>training0328.jpg</td>\n",
       "      <td>training0328.json</td>\n",
       "      <td>0</td>\n",
       "      <td>1</td>\n",
       "      <td>non-mitosis</td>\n",
       "    </tr>\n",
       "    <tr>\n",
       "      <th>465</th>\n",
       "      <td>training0466.jpg</td>\n",
       "      <td>training0466.json</td>\n",
       "      <td>1</td>\n",
       "      <td>0</td>\n",
       "      <td>mitosis</td>\n",
       "    </tr>\n",
       "    <tr>\n",
       "      <th>672</th>\n",
       "      <td>training0673.jpg</td>\n",
       "      <td>training0673.json</td>\n",
       "      <td>0</td>\n",
       "      <td>1</td>\n",
       "      <td>non-mitosis</td>\n",
       "    </tr>\n",
       "    <tr>\n",
       "      <th>962</th>\n",
       "      <td>training0963.jpg</td>\n",
       "      <td>training0963.json</td>\n",
       "      <td>0</td>\n",
       "      <td>1</td>\n",
       "      <td>non-mitosis</td>\n",
       "    </tr>\n",
       "  </tbody>\n",
       "</table>\n",
       "<p>1151 rows × 5 columns</p>\n",
       "</div>"
      ],
      "text/plain": [
       "                 image               json  mitosis_count  non_mitosis_count  \\\n",
       "3     training0004.jpg  training0004.json              1                  1   \n",
       "190   training0191.jpg  training0191.json              1                  0   \n",
       "1355  training1356.jpg  training1356.json              1                  0   \n",
       "793   training0794.jpg  training0794.json              1                  0   \n",
       "1342  training1343.jpg  training1343.json              1                  0   \n",
       "...                ...                ...            ...                ...   \n",
       "452   training0453.jpg  training0453.json              1                  0   \n",
       "327   training0328.jpg  training0328.json              0                  1   \n",
       "465   training0466.jpg  training0466.json              1                  0   \n",
       "672   training0673.jpg  training0673.json              0                  1   \n",
       "962   training0963.jpg  training0963.json              0                  1   \n",
       "\n",
       "         category  \n",
       "3           mixed  \n",
       "190       mitosis  \n",
       "1355      mitosis  \n",
       "793       mitosis  \n",
       "1342      mitosis  \n",
       "...           ...  \n",
       "452       mitosis  \n",
       "327   non-mitosis  \n",
       "465       mitosis  \n",
       "672   non-mitosis  \n",
       "962   non-mitosis  \n",
       "\n",
       "[1151 rows x 5 columns]"
      ]
     },
     "execution_count": 6,
     "metadata": {},
     "output_type": "execute_result"
    }
   ],
   "source": [
    "train_df"
   ]
  },
  {
   "cell_type": "code",
   "execution_count": null,
   "metadata": {
    "execution": {
     "iopub.execute_input": "2025-02-12T13:17:37.723928Z",
     "iopub.status.busy": "2025-02-12T13:17:37.723648Z",
     "iopub.status.idle": "2025-02-12T13:17:37.728284Z",
     "shell.execute_reply": "2025-02-12T13:17:37.727487Z",
     "shell.execute_reply.started": "2025-02-12T13:17:37.723907Z"
    },
    "trusted": true
   },
   "outputs": [],
   "source": [
    "# Image transformations for train \n",
    "transform = transforms.Compose([\n",
    "    transforms.Resize((224, 224)),\n",
    "    transforms.RandomHorizontalFlip(),\n",
    "    transforms.RandomVerticalFlip(),\n",
    "    transforms.RandomRotation(degrees=30),\n",
    "    transforms.ToTensor(),\n",
    "    transforms.Normalize(mean=[0.485, 0.456, 0.406], std=[0.229, 0.224, 0.225])\n",
    "])"
   ]
  },
  {
   "cell_type": "code",
   "execution_count": 115,
   "metadata": {
    "execution": {
     "iopub.execute_input": "2025-02-12T13:17:38.365574Z",
     "iopub.status.busy": "2025-02-12T13:17:38.365268Z",
     "iopub.status.idle": "2025-02-12T13:17:38.372983Z",
     "shell.execute_reply": "2025-02-12T13:17:38.371919Z",
     "shell.execute_reply.started": "2025-02-12T13:17:38.365548Z"
    },
    "trusted": true
   },
   "outputs": [],
   "source": [
    "class MitosisDataset(Dataset):\n",
    "    def __init__(self, dataframe, data_folder, transform=None):\n",
    "        self.dataframe = dataframe\n",
    "        self.data_folder = data_folder\n",
    "        self.transform = transform\n",
    "    \n",
    "    def __len__(self):\n",
    "        return len(self.dataframe)\n",
    "\n",
    "    def __getitem__(self, idx):\n",
    "        row = self.dataframe.iloc[idx]\n",
    "        image_path = os.path.join(self.data_folder, row['image'])\n",
    "        json_path = os.path.join(self.data_folder, row['json'])\n",
    "    \n",
    "        image = Image.open(image_path).convert(\"RGB\")\n",
    "        with open(json_path, 'r') as f:\n",
    "            json_data = json.load(f)\n",
    "    \n",
    "        rois = []\n",
    "        labels = []\n",
    "    \n",
    "        for shape in json_data[\"shapes\"]:\n",
    "            points = shape[\"points\"]\n",
    "            label = 1 if shape[\"label\"] == \"Mitosis\" else 0\n",
    "        \n",
    "            x_min = int(min(p[0] for p in points))\n",
    "            y_min = int(min(p[1] for p in points))\n",
    "            x_max = int(max(p[0] for p in points))\n",
    "            y_max = int(max(p[1] for p in points))\n",
    "        \n",
    "            roi = image.crop((x_min, y_min, x_max, y_max))\n",
    "            if self.transform:\n",
    "                roi = self.transform(roi)\n",
    "        \n",
    "            rois.append(roi)\n",
    "            labels.append(label)\n",
    "    \n",
    "        return rois, labels"
   ]
  },
  {
   "cell_type": "code",
   "execution_count": null,
   "metadata": {
    "execution": {
     "iopub.execute_input": "2025-02-12T13:17:41.965399Z",
     "iopub.status.busy": "2025-02-12T13:17:41.965083Z",
     "iopub.status.idle": "2025-02-12T13:17:41.969531Z",
     "shell.execute_reply": "2025-02-12T13:17:41.968771Z",
     "shell.execute_reply.started": "2025-02-12T13:17:41.965376Z"
    },
    "trusted": true
   },
   "outputs": [],
   "source": [
    "def collate_fn(batch):\n",
    "    all_rois = []\n",
    "    all_labels = []\n",
    "    \n",
    "    for rois, labels in batch:\n",
    "        all_rois.extend(rois)\n",
    "        all_labels.extend(labels)\n",
    "    \n",
    "    all_rois = torch.stack(all_rois)  # ROIs to a tensor\n",
    "    all_labels = torch.tensor(all_labels, dtype=torch.long)  # labels to a tensor\n",
    "    \n",
    "    return all_rois, all_labels"
   ]
  },
  {
   "cell_type": "code",
   "execution_count": 117,
   "metadata": {
    "execution": {
     "iopub.execute_input": "2025-02-12T13:17:42.606611Z",
     "iopub.status.busy": "2025-02-12T13:17:42.606328Z",
     "iopub.status.idle": "2025-02-12T13:17:42.610292Z",
     "shell.execute_reply": "2025-02-12T13:17:42.609426Z",
     "shell.execute_reply.started": "2025-02-12T13:17:42.606588Z"
    },
    "trusted": true
   },
   "outputs": [],
   "source": [
    "train_dataset = MitosisDataset(train_df, data_folder, transform)\n",
    "val_dataset = MitosisDataset(val_df, data_folder, transform)"
   ]
  },
  {
   "cell_type": "code",
   "execution_count": null,
   "metadata": {
    "execution": {
     "iopub.execute_input": "2025-02-12T13:17:43.470510Z",
     "iopub.status.busy": "2025-02-12T13:17:43.470226Z",
     "iopub.status.idle": "2025-02-12T13:17:43.475176Z",
     "shell.execute_reply": "2025-02-12T13:17:43.474190Z",
     "shell.execute_reply.started": "2025-02-12T13:17:43.470489Z"
    },
    "trusted": true
   },
   "outputs": [],
   "source": [
    "batch_size = 32\n",
    "train_loader = DataLoader(train_dataset, batch_size=batch_size, shuffle=True, collate_fn=collate_fn)\n",
    "val_loader = DataLoader(val_dataset, batch_size=batch_size, shuffle=False, collate_fn=collate_fn)\n",
    "\n",
    "device = torch.device('cuda' if torch.cuda.is_available() else 'cpu')"
   ]
  },
  {
   "cell_type": "code",
   "execution_count": null,
   "metadata": {
    "execution": {
     "iopub.execute_input": "2025-02-12T13:17:54.555541Z",
     "iopub.status.busy": "2025-02-12T13:17:54.555231Z",
     "iopub.status.idle": "2025-02-12T13:17:56.113004Z",
     "shell.execute_reply": "2025-02-12T13:17:56.112169Z",
     "shell.execute_reply.started": "2025-02-12T13:17:54.555517Z"
    },
    "trusted": true
   },
   "outputs": [],
   "source": [
    "import torch.nn as nn\n",
    "import torchvision.models as models\n",
    "\n",
    "# the best model that worked for me, I tried several other model architectures e.g. DenseNet, InceptionNet, ResNet, etc. \n",
    "\n",
    "vgg19 = models.vgg19(weights=models.VGG19_Weights.IMAGENET1K_V1) \n",
    "\n",
    "# Freeze all pretrained layers except the classifier (fully connected layers)\n",
    "for param in vgg19.features.parameters():\n",
    "    param.requires_grad = False\n",
    "\n",
    "# Unfreeze the classifier layers\n",
    "for param in vgg19.classifier.parameters():\n",
    "    param.requires_grad = True"
   ]
  },
  {
   "cell_type": "code",
   "execution_count": null,
   "metadata": {
    "execution": {
     "iopub.execute_input": "2025-02-12T13:17:58.552299Z",
     "iopub.status.busy": "2025-02-12T13:17:58.551940Z",
     "iopub.status.idle": "2025-02-12T13:17:58.556984Z",
     "shell.execute_reply": "2025-02-12T13:17:58.556151Z",
     "shell.execute_reply.started": "2025-02-12T13:17:58.552269Z"
    },
    "trusted": true
   },
   "outputs": [
    {
     "name": "stdout",
     "output_type": "stream",
     "text": [
      "VGG(\n",
      "  (features): Sequential(\n",
      "    (0): Conv2d(3, 64, kernel_size=(3, 3), stride=(1, 1), padding=(1, 1))\n",
      "    (1): ReLU(inplace=True)\n",
      "    (2): Conv2d(64, 64, kernel_size=(3, 3), stride=(1, 1), padding=(1, 1))\n",
      "    (3): ReLU(inplace=True)\n",
      "    (4): MaxPool2d(kernel_size=2, stride=2, padding=0, dilation=1, ceil_mode=False)\n",
      "    (5): Conv2d(64, 128, kernel_size=(3, 3), stride=(1, 1), padding=(1, 1))\n",
      "    (6): ReLU(inplace=True)\n",
      "    (7): Conv2d(128, 128, kernel_size=(3, 3), stride=(1, 1), padding=(1, 1))\n",
      "    (8): ReLU(inplace=True)\n",
      "    (9): MaxPool2d(kernel_size=2, stride=2, padding=0, dilation=1, ceil_mode=False)\n",
      "    (10): Conv2d(128, 256, kernel_size=(3, 3), stride=(1, 1), padding=(1, 1))\n",
      "    (11): ReLU(inplace=True)\n",
      "    (12): Conv2d(256, 256, kernel_size=(3, 3), stride=(1, 1), padding=(1, 1))\n",
      "    (13): ReLU(inplace=True)\n",
      "    (14): Conv2d(256, 256, kernel_size=(3, 3), stride=(1, 1), padding=(1, 1))\n",
      "    (15): ReLU(inplace=True)\n",
      "    (16): Conv2d(256, 256, kernel_size=(3, 3), stride=(1, 1), padding=(1, 1))\n",
      "    (17): ReLU(inplace=True)\n",
      "    (18): MaxPool2d(kernel_size=2, stride=2, padding=0, dilation=1, ceil_mode=False)\n",
      "    (19): Conv2d(256, 512, kernel_size=(3, 3), stride=(1, 1), padding=(1, 1))\n",
      "    (20): ReLU(inplace=True)\n",
      "    (21): Conv2d(512, 512, kernel_size=(3, 3), stride=(1, 1), padding=(1, 1))\n",
      "    (22): ReLU(inplace=True)\n",
      "    (23): Conv2d(512, 512, kernel_size=(3, 3), stride=(1, 1), padding=(1, 1))\n",
      "    (24): ReLU(inplace=True)\n",
      "    (25): Conv2d(512, 512, kernel_size=(3, 3), stride=(1, 1), padding=(1, 1))\n",
      "    (26): ReLU(inplace=True)\n",
      "    (27): MaxPool2d(kernel_size=2, stride=2, padding=0, dilation=1, ceil_mode=False)\n",
      "    (28): Conv2d(512, 512, kernel_size=(3, 3), stride=(1, 1), padding=(1, 1))\n",
      "    (29): ReLU(inplace=True)\n",
      "    (30): Conv2d(512, 512, kernel_size=(3, 3), stride=(1, 1), padding=(1, 1))\n",
      "    (31): ReLU(inplace=True)\n",
      "    (32): Conv2d(512, 512, kernel_size=(3, 3), stride=(1, 1), padding=(1, 1))\n",
      "    (33): ReLU(inplace=True)\n",
      "    (34): Conv2d(512, 512, kernel_size=(3, 3), stride=(1, 1), padding=(1, 1))\n",
      "    (35): ReLU(inplace=True)\n",
      "    (36): MaxPool2d(kernel_size=2, stride=2, padding=0, dilation=1, ceil_mode=False)\n",
      "  )\n",
      "  (avgpool): AdaptiveAvgPool2d(output_size=(7, 7))\n",
      "  (classifier): Sequential(\n",
      "    (0): Linear(in_features=25088, out_features=4096, bias=True)\n",
      "    (1): ReLU(inplace=True)\n",
      "    (2): Dropout(p=0.5, inplace=False)\n",
      "    (3): Linear(in_features=4096, out_features=4096, bias=True)\n",
      "    (4): ReLU(inplace=True)\n",
      "    (5): Dropout(p=0.5, inplace=False)\n",
      "    (6): Linear(in_features=4096, out_features=1000, bias=True)\n",
      "  )\n",
      ")\n"
     ]
    }
   ],
   "source": [
    "print(vgg19) # vgg19 architecture"
   ]
  },
  {
   "cell_type": "code",
   "execution_count": null,
   "metadata": {
    "execution": {
     "iopub.execute_input": "2025-02-12T13:18:04.179932Z",
     "iopub.status.busy": "2025-02-12T13:18:04.179612Z",
     "iopub.status.idle": "2025-02-12T13:18:04.740984Z",
     "shell.execute_reply": "2025-02-12T13:18:04.740316Z",
     "shell.execute_reply.started": "2025-02-12T13:18:04.179907Z"
    },
    "trusted": true
   },
   "outputs": [],
   "source": [
    "vgg19.classifier = nn.Sequential(\n",
    "    nn.Linear(25088, 2048),  \n",
    "    nn.BatchNorm1d(2048),\n",
    "    nn.GELU(),\n",
    "    nn.Dropout(0.1),\n",
    "\n",
    "    nn.Linear(2048, 1024),\n",
    "    nn.BatchNorm1d(1024),\n",
    "    nn.GELU(),\n",
    "    nn.Dropout(0.1),\n",
    "\n",
    "    nn.Linear(1024, 512),\n",
    "    nn.BatchNorm1d(512),\n",
    "    nn.GELU(),\n",
    "    nn.Dropout(0.1),\n",
    "\n",
    "    nn.Linear(512, 1)\n",
    ")\n",
    "\n",
    "device = torch.device(\"cuda\" if torch.cuda.is_available() else \"cpu\")\n",
    "vgg19 = vgg19.to(device)"
   ]
  },
  {
   "cell_type": "code",
   "execution_count": null,
   "metadata": {
    "execution": {
     "iopub.execute_input": "2025-02-12T13:18:11.094342Z",
     "iopub.status.busy": "2025-02-12T13:18:11.093986Z",
     "iopub.status.idle": "2025-02-12T13:18:11.098963Z",
     "shell.execute_reply": "2025-02-12T13:18:11.098048Z",
     "shell.execute_reply.started": "2025-02-12T13:18:11.094312Z"
    },
    "trusted": true
   },
   "outputs": [],
   "source": [
    "import torch.optim.lr_scheduler as lr_scheduler\n",
    "\n",
    "criterion = nn.BCEWithLogitsLoss()\n",
    "optimizer = optim.Adam(vgg19.parameters(), lr=0.001)\n",
    "\n",
    "scheduler = lr_scheduler.ReduceLROnPlateau(optimizer, mode='min', factor=0.9, patience=2, verbose=True)"
   ]
  },
  {
   "cell_type": "code",
   "execution_count": null,
   "metadata": {
    "execution": {
     "iopub.execute_input": "2025-02-12T13:18:11.623281Z",
     "iopub.status.busy": "2025-02-12T13:18:11.622951Z",
     "iopub.status.idle": "2025-02-12T13:18:11.628284Z",
     "shell.execute_reply": "2025-02-12T13:18:11.627463Z",
     "shell.execute_reply.started": "2025-02-12T13:18:11.623255Z"
    },
    "trusted": true
   },
   "outputs": [],
   "source": [
    "def evaluate_metrics(y_true, y_pred, y_prob):\n",
    "    metrics = {}\n",
    "    metrics['accuracy'] = accuracy_score(y_true, y_pred)\n",
    "    metrics['balanced_accuracy'] = balanced_accuracy_score(y_true, y_pred)\n",
    "    metrics['f1_score'] = f1_score(y_true, y_pred)  \n",
    "    metrics['mcc'] = matthews_corrcoef(y_true, y_pred)\n",
    "    metrics['roc_auc'] = roc_auc_score(y_true, y_prob)  \n",
    "\n",
    "    tn, fp, fn, tp = confusion_matrix(y_true, y_pred).ravel()\n",
    "\n",
    "    \n",
    "    sensitivity = tp / (tp + fn)  \n",
    "    specificity = tn / (tn + fp)  \n",
    "\n",
    "  \n",
    "    metrics['sensitivity'] = sensitivity\n",
    "    metrics['specificity'] = specificity\n",
    "\n",
    "    metrics_str = (f\"Accuracy: {metrics['accuracy']:.4f}, \"\n",
    "                   f\"Balanced Accuracy: {metrics['balanced_accuracy']:.4f}, \"\n",
    "                   f\"F1 Score: {metrics['f1_score']:.4f}, \"\n",
    "                   f\"MCC: {metrics['mcc']:.4f}, \"\n",
    "                   f\"ROC AUC: {metrics['roc_auc']:.4f}, \"\n",
    "                   f\"Sensitivity: {metrics['sensitivity']:.4f}, \"\n",
    "                   f\"Specificity: {metrics['specificity']:.4f}\")\n",
    "    \n",
    "    return metrics, metrics_str"
   ]
  },
  {
   "cell_type": "code",
   "execution_count": null,
   "metadata": {
    "execution": {
     "iopub.execute_input": "2025-02-12T13:18:15.957031Z",
     "iopub.status.busy": "2025-02-12T13:18:15.956652Z",
     "iopub.status.idle": "2025-02-12T13:18:15.963154Z",
     "shell.execute_reply": "2025-02-12T13:18:15.962111Z",
     "shell.execute_reply.started": "2025-02-12T13:18:15.957002Z"
    },
    "trusted": true
   },
   "outputs": [],
   "source": [
    "def train(model, train_loader, criterion, optimizer, device):\n",
    "    model.train()\n",
    "    running_loss = 0.0\n",
    "    y_true, y_pred, y_prob = [], [], []\n",
    "\n",
    "    for images, labels in train_loader:\n",
    "        images, labels = images.to(device), labels.to(device).float().unsqueeze(1)  \n",
    "\n",
    "        optimizer.zero_grad()\n",
    "        outputs = model(images).squeeze(1)  # raw logits\n",
    "\n",
    "        # Compute loss\n",
    "        loss = criterion(outputs, labels.squeeze(1))  \n",
    "        loss.backward()\n",
    "        optimizer.step()\n",
    "\n",
    "        running_loss += loss.item()\n",
    "\n",
    "        # Convert logits to probabilities\n",
    "        probs = torch.sigmoid(outputs)  \n",
    "        preds = (probs >= 0.5).long()  # Threshold at 0.5 for class predictions (0 or 1)\n",
    "\n",
    "        y_true.extend(labels.cpu().numpy())\n",
    "        y_pred.extend(preds.cpu().numpy())\n",
    "        y_prob.extend(probs.detach().cpu().numpy())\n",
    "\n",
    "    avg_loss = running_loss / len(train_loader)\n",
    "    metrics, metrics_str = evaluate_metrics(y_true, y_pred, y_prob)\n",
    "    return avg_loss, (metrics, metrics_str)"
   ]
  },
  {
   "cell_type": "code",
   "execution_count": null,
   "metadata": {
    "execution": {
     "iopub.execute_input": "2025-02-12T13:18:21.510883Z",
     "iopub.status.busy": "2025-02-12T13:18:21.510555Z",
     "iopub.status.idle": "2025-02-12T13:18:21.516509Z",
     "shell.execute_reply": "2025-02-12T13:18:21.515508Z",
     "shell.execute_reply.started": "2025-02-12T13:18:21.510853Z"
    },
    "trusted": true
   },
   "outputs": [],
   "source": [
    "def evaluate_model(model, val_loader, criterion, device):\n",
    "    model.eval()\n",
    "    running_loss = 0.0\n",
    "    y_true, y_pred, y_prob = [], [], []\n",
    "\n",
    "    with torch.no_grad():\n",
    "        for images, labels in val_loader:\n",
    "            images, labels = images.to(device), labels.to(device).float().unsqueeze(1)  \n",
    "            outputs = model(images).squeeze(1)  \n",
    "\n",
    "            \n",
    "            loss = criterion(outputs, labels.squeeze(1))  \n",
    "            running_loss += loss.item()\n",
    "\n",
    "            probs = torch.sigmoid(outputs)\n",
    "            preds = (probs >= 0.5).long()  \n",
    "            \n",
    "            y_true.extend(labels.cpu().numpy())\n",
    "            y_pred.extend(preds.cpu().numpy())\n",
    "            y_prob.extend(probs.cpu().numpy())\n",
    "\n",
    "    avg_loss = running_loss / len(val_loader)\n",
    "    metrics, metrics_str = evaluate_metrics(y_true, y_pred, y_prob)\n",
    "    return avg_loss, (metrics, metrics_str)"
   ]
  },
  {
   "cell_type": "code",
   "execution_count": null,
   "metadata": {
    "execution": {
     "iopub.execute_input": "2025-02-12T13:18:35.083253Z",
     "iopub.status.busy": "2025-02-12T13:18:35.082913Z",
     "iopub.status.idle": "2025-02-12T13:22:59.225275Z",
     "shell.execute_reply": "2025-02-12T13:22:59.224181Z",
     "shell.execute_reply.started": "2025-02-12T13:18:35.083226Z"
    },
    "trusted": true
   },
   "outputs": [
    {
     "name": "stdout",
     "output_type": "stream",
     "text": [
      "Epoch: 1/20 -------------------------------------------------------------------------------\n",
      "Train Loss: 0.3908, Train Metrics: Accuracy: 0.8327, Balanced Accuracy: 0.8315, F1 Score: 0.8472, MCC: 0.6623, ROC AUC: 0.9049, Sensitivity: 0.8437, Specificity: 0.8193\n",
      "Val Loss: 0.2486, Val Metrics: Accuracy: 0.8954, Balanced Accuracy: 0.8937, F1 Score: 0.9056, MCC: 0.7884, ROC AUC: 0.9615, Sensitivity: 0.9106, Specificity: 0.8767\n",
      "Learning Rate: 0.001000\n",
      "Epoch: 2/20 -------------------------------------------------------------------------------\n",
      "Train Loss: 0.2566, Train Metrics: Accuracy: 0.9009, Balanced Accuracy: 0.9027, F1 Score: 0.9075, MCC: 0.8021, ROC AUC: 0.9569, Sensitivity: 0.8845, Specificity: 0.9208\n",
      "Val Loss: 0.2659, Val Metrics: Accuracy: 0.8892, Balanced Accuracy: 0.8906, F1 Score: 0.8971, MCC: 0.7782, ROC AUC: 0.9562, Sensitivity: 0.8771, Specificity: 0.9041\n",
      "Learning Rate: 0.001000\n",
      "Epoch: 3/20 -------------------------------------------------------------------------------\n",
      "Train Loss: 0.2343, Train Metrics: Accuracy: 0.9086, Balanced Accuracy: 0.9114, F1 Score: 0.9140, MCC: 0.8190, ROC AUC: 0.9643, Sensitivity: 0.8831, Specificity: 0.9398\n",
      "Val Loss: 0.3070, Val Metrics: Accuracy: 0.8738, Balanced Accuracy: 0.8703, F1 Score: 0.8877, MCC: 0.7446, ROC AUC: 0.9514, Sensitivity: 0.9050, Specificity: 0.8356\n",
      "Learning Rate: 0.001000\n",
      "Epoch: 4/20 -------------------------------------------------------------------------------\n",
      "Train Loss: 0.2354, Train Metrics: Accuracy: 0.9070, Balanced Accuracy: 0.9091, F1 Score: 0.9132, MCC: 0.8148, ROC AUC: 0.9647, Sensitivity: 0.8887, Specificity: 0.9294\n",
      "Val Loss: 0.2167, Val Metrics: Accuracy: 0.9015, Balanced Accuracy: 0.9049, F1 Score: 0.9070, MCC: 0.8058, ROC AUC: 0.9706, Sensitivity: 0.8715, Specificity: 0.9384\n",
      "Learning Rate: 0.001000\n",
      "Epoch: 5/20 -------------------------------------------------------------------------------\n",
      "Train Loss: 0.1886, Train Metrics: Accuracy: 0.9132, Balanced Accuracy: 0.9144, F1 Score: 0.9197, MCC: 0.8261, ROC AUC: 0.9764, Sensitivity: 0.9028, Specificity: 0.9260\n",
      "Val Loss: 0.2587, Val Metrics: Accuracy: 0.9015, Balanced Accuracy: 0.9037, F1 Score: 0.9080, MCC: 0.8038, ROC AUC: 0.9590, Sensitivity: 0.8827, Specificity: 0.9247\n",
      "Learning Rate: 0.001000\n",
      "Epoch: 6/20 -------------------------------------------------------------------------------\n",
      "Train Loss: 0.2084, Train Metrics: Accuracy: 0.9179, Balanced Accuracy: 0.9193, F1 Score: 0.9239, MCC: 0.8356, ROC AUC: 0.9715, Sensitivity: 0.9056, Specificity: 0.9329\n",
      "Val Loss: 0.2258, Val Metrics: Accuracy: 0.9200, Balanced Accuracy: 0.9211, F1 Score: 0.9261, MCC: 0.8395, ROC AUC: 0.9683, Sensitivity: 0.9106, Specificity: 0.9315\n",
      "Learning Rate: 0.001000\n",
      "Epoch: 7/20 -------------------------------------------------------------------------------\n",
      "Train Loss: 0.1935, Train Metrics: Accuracy: 0.9163, Balanced Accuracy: 0.9193, F1 Score: 0.9213, MCC: 0.8346, ROC AUC: 0.9753, Sensitivity: 0.8901, Specificity: 0.9484\n",
      "Val Loss: 0.1966, Val Metrics: Accuracy: 0.9077, Balanced Accuracy: 0.9074, F1 Score: 0.9157, MCC: 0.8138, ROC AUC: 0.9787, Sensitivity: 0.9106, Specificity: 0.9041\n",
      "Learning Rate: 0.001000\n",
      "Epoch: 8/20 -------------------------------------------------------------------------------\n",
      "Train Loss: 0.1977, Train Metrics: Accuracy: 0.9241, Balanced Accuracy: 0.9268, F1 Score: 0.9288, MCC: 0.8497, ROC AUC: 0.9729, Sensitivity: 0.9000, Specificity: 0.9535\n",
      "Val Loss: 0.2552, Val Metrics: Accuracy: 0.8892, Balanced Accuracy: 0.8900, F1 Score: 0.8977, MCC: 0.7775, ROC AUC: 0.9609, Sensitivity: 0.8827, Specificity: 0.8973\n",
      "Learning Rate: 0.001000\n",
      "Epoch: 9/20 -------------------------------------------------------------------------------\n",
      "Train Loss: 0.1810, Train Metrics: Accuracy: 0.9311, Balanced Accuracy: 0.9331, F1 Score: 0.9357, MCC: 0.8628, ROC AUC: 0.9786, Sensitivity: 0.9127, Specificity: 0.9535\n",
      "Val Loss: 0.2318, Val Metrics: Accuracy: 0.9108, Balanced Accuracy: 0.9139, F1 Score: 0.9159, MCC: 0.8238, ROC AUC: 0.9637, Sensitivity: 0.8827, Specificity: 0.9452\n",
      "Learning Rate: 0.001000\n",
      "Epoch: 10/20 -------------------------------------------------------------------------------\n",
      "Train Loss: 0.1799, Train Metrics: Accuracy: 0.9272, Balanced Accuracy: 0.9302, F1 Score: 0.9315, MCC: 0.8564, ROC AUC: 0.9782, Sensitivity: 0.9000, Specificity: 0.9604\n",
      "Val Loss: 0.2014, Val Metrics: Accuracy: 0.9108, Balanced Accuracy: 0.9165, F1 Score: 0.9139, MCC: 0.8290, ROC AUC: 0.9743, Sensitivity: 0.8603, Specificity: 0.9726\n",
      "Learning Rate: 0.000900\n",
      "Epoch: 11/20 -------------------------------------------------------------------------------\n",
      "Train Loss: 0.1762, Train Metrics: Accuracy: 0.9256, Balanced Accuracy: 0.9277, F1 Score: 0.9306, MCC: 0.8520, ROC AUC: 0.9777, Sensitivity: 0.9070, Specificity: 0.9484\n",
      "Val Loss: 0.2148, Val Metrics: Accuracy: 0.9046, Balanced Accuracy: 0.9077, F1 Score: 0.9101, MCC: 0.8114, ROC AUC: 0.9697, Sensitivity: 0.8771, Specificity: 0.9384\n",
      "Learning Rate: 0.000900\n",
      "Epoch: 12/20 -------------------------------------------------------------------------------\n",
      "Train Loss: 0.1740, Train Metrics: Accuracy: 0.9318, Balanced Accuracy: 0.9352, F1 Score: 0.9357, MCC: 0.8662, ROC AUC: 0.9789, Sensitivity: 0.9014, Specificity: 0.9690\n",
      "Val Loss: 0.2094, Val Metrics: Accuracy: 0.9046, Balanced Accuracy: 0.9027, F1 Score: 0.9141, MCC: 0.8070, ROC AUC: 0.9747, Sensitivity: 0.9218, Specificity: 0.8836\n",
      "Learning Rate: 0.000900\n",
      "Epoch: 13/20 -------------------------------------------------------------------------------\n",
      "Train Loss: 0.2101, Train Metrics: Accuracy: 0.9171, Balanced Accuracy: 0.9195, F1 Score: 0.9224, MCC: 0.8353, ROC AUC: 0.9706, Sensitivity: 0.8958, Specificity: 0.9432\n",
      "Val Loss: 0.1894, Val Metrics: Accuracy: 0.9200, Balanced Accuracy: 0.9211, F1 Score: 0.9261, MCC: 0.8395, ROC AUC: 0.9771, Sensitivity: 0.9106, Specificity: 0.9315\n",
      "Learning Rate: 0.000900\n",
      "Epoch: 14/20 -------------------------------------------------------------------------------\n",
      "Train Loss: 0.1910, Train Metrics: Accuracy: 0.9249, Balanced Accuracy: 0.9281, F1 Score: 0.9291, MCC: 0.8521, ROC AUC: 0.9746, Sensitivity: 0.8958, Specificity: 0.9604\n",
      "Val Loss: 0.2696, Val Metrics: Accuracy: 0.9046, Balanced Accuracy: 0.9046, F1 Score: 0.9127, MCC: 0.8077, ROC AUC: 0.9586, Sensitivity: 0.9050, Specificity: 0.9041\n",
      "Learning Rate: 0.000900\n",
      "Epoch: 15/20 -------------------------------------------------------------------------------\n",
      "Train Loss: 0.1777, Train Metrics: Accuracy: 0.9287, Balanced Accuracy: 0.9313, F1 Score: 0.9332, MCC: 0.8588, ROC AUC: 0.9789, Sensitivity: 0.9056, Specificity: 0.9570\n",
      "Val Loss: 0.2139, Val Metrics: Accuracy: 0.9108, Balanced Accuracy: 0.9127, F1 Score: 0.9169, MCC: 0.8220, ROC AUC: 0.9676, Sensitivity: 0.8939, Specificity: 0.9315\n",
      "Learning Rate: 0.000900\n",
      "Epoch: 16/20 -------------------------------------------------------------------------------\n",
      "Train Loss: 0.1651, Train Metrics: Accuracy: 0.9311, Balanced Accuracy: 0.9334, F1 Score: 0.9356, MCC: 0.8632, ROC AUC: 0.9809, Sensitivity: 0.9099, Specificity: 0.9570\n",
      "Val Loss: 0.2418, Val Metrics: Accuracy: 0.9046, Balanced Accuracy: 0.9052, F1 Score: 0.9122, MCC: 0.8082, ROC AUC: 0.9645, Sensitivity: 0.8994, Specificity: 0.9110\n",
      "Learning Rate: 0.000810\n",
      "Epoch: 17/20 -------------------------------------------------------------------------------\n",
      "Train Loss: 0.1526, Train Metrics: Accuracy: 0.9326, Balanced Accuracy: 0.9359, F1 Score: 0.9364, MCC: 0.8677, ROC AUC: 0.9832, Sensitivity: 0.9028, Specificity: 0.9690\n",
      "Val Loss: 0.2081, Val Metrics: Accuracy: 0.9108, Balanced Accuracy: 0.9120, F1 Score: 0.9174, MCC: 0.8212, ROC AUC: 0.9704, Sensitivity: 0.8994, Specificity: 0.9247\n",
      "Learning Rate: 0.000810\n",
      "Epoch: 18/20 -------------------------------------------------------------------------------\n",
      "Train Loss: 0.1615, Train Metrics: Accuracy: 0.9295, Balanced Accuracy: 0.9323, F1 Score: 0.9338, MCC: 0.8607, ROC AUC: 0.9800, Sensitivity: 0.9042, Specificity: 0.9604\n",
      "Val Loss: 0.2378, Val Metrics: Accuracy: 0.9108, Balanced Accuracy: 0.9120, F1 Score: 0.9174, MCC: 0.8212, ROC AUC: 0.9627, Sensitivity: 0.8994, Specificity: 0.9247\n",
      "Learning Rate: 0.000810\n",
      "Epoch: 19/20 -------------------------------------------------------------------------------\n",
      "Train Loss: 0.1429, Train Metrics: Accuracy: 0.9396, Balanced Accuracy: 0.9426, F1 Score: 0.9432, MCC: 0.8811, ROC AUC: 0.9851, Sensitivity: 0.9127, Specificity: 0.9725\n",
      "Val Loss: 0.1900, Val Metrics: Accuracy: 0.9323, Balanced Accuracy: 0.9348, F1 Score: 0.9368, MCC: 0.8657, ROC AUC: 0.9748, Sensitivity: 0.9106, Specificity: 0.9589\n",
      "Learning Rate: 0.000729\n",
      "Epoch: 20/20 -------------------------------------------------------------------------------\n",
      "Train Loss: 0.1446, Train Metrics: Accuracy: 0.9396, Balanced Accuracy: 0.9424, F1 Score: 0.9433, MCC: 0.8808, ROC AUC: 0.9846, Sensitivity: 0.9141, Specificity: 0.9707\n",
      "Val Loss: 0.2262, Val Metrics: Accuracy: 0.9077, Balanced Accuracy: 0.9080, F1 Score: 0.9153, MCC: 0.8142, ROC AUC: 0.9738, Sensitivity: 0.9050, Specificity: 0.9110\n",
      "Learning Rate: 0.000729\n",
      "Best model saved with best Score: 0.9367816091954023\n"
     ]
    }
   ],
   "source": [
    "# Training and validation loop\n",
    "num_epochs = 20\n",
    "best_f1 = 0.0\n",
    "best_model_wts = copy.deepcopy(vgg19.state_dict())\n",
    "\n",
    "for epoch in range(num_epochs):\n",
    "    # Train for one epoch\n",
    "    train_loss, (train_metrics, train_metrics_str) = train(vgg19, train_loader, criterion, optimizer, device)\n",
    "    \n",
    "    # Validate after each epoch\n",
    "    val_loss, (val_metrics, val_metrics_str) = evaluate_model(vgg19, val_loader, criterion, device)\n",
    "\n",
    "    scheduler.step(val_loss)  # Adjusting learning rate based on validation loss\n",
    "    \n",
    "    # Saving the best model based on validation F1 score\n",
    "    if val_metrics['f1_score'] > best_f1:\n",
    "        best_f1 = val_metrics['f1_score']\n",
    "        best_model_wts = copy.deepcopy(vgg19.state_dict())\n",
    "\n",
    "    current_lr = optimizer.param_groups[0]['lr']\n",
    "    print(f\"Epoch: {epoch + 1}/{num_epochs} -------------------------------------------------------------------------------\")\n",
    "    print(f\"Train Loss: {train_loss:.4f}, Train Metrics: {train_metrics_str}\")\n",
    "    print(f\"Val Loss: {val_loss:.4f}, Val Metrics: {val_metrics_str}\")\n",
    "    print(f\"Learning Rate: {current_lr:.6f}\")\n",
    "\n",
    "# Saving the best model\n",
    "vgg19.load_state_dict(best_model_wts)\n",
    "torch.save(vgg19.state_dict(), \"mcd_vgg19_0408_b32.pth\")\n",
    "print(f\"Best model saved with best Score: {best_f1}\")"
   ]
  },
  {
   "cell_type": "code",
   "execution_count": null,
   "metadata": {
    "execution": {
     "iopub.execute_input": "2025-02-12T13:23:16.889796Z",
     "iopub.status.busy": "2025-02-12T13:23:16.889489Z",
     "iopub.status.idle": "2025-02-12T13:23:16.895514Z",
     "shell.execute_reply": "2025-02-12T13:23:16.894781Z",
     "shell.execute_reply.started": "2025-02-12T13:23:16.889772Z"
    },
    "trusted": true
   },
   "outputs": [
    {
     "data": {
      "text/plain": [
       "VGG(\n",
       "  (features): Sequential(\n",
       "    (0): Conv2d(3, 64, kernel_size=(3, 3), stride=(1, 1), padding=(1, 1))\n",
       "    (1): ReLU(inplace=True)\n",
       "    (2): Conv2d(64, 64, kernel_size=(3, 3), stride=(1, 1), padding=(1, 1))\n",
       "    (3): ReLU(inplace=True)\n",
       "    (4): MaxPool2d(kernel_size=2, stride=2, padding=0, dilation=1, ceil_mode=False)\n",
       "    (5): Conv2d(64, 128, kernel_size=(3, 3), stride=(1, 1), padding=(1, 1))\n",
       "    (6): ReLU(inplace=True)\n",
       "    (7): Conv2d(128, 128, kernel_size=(3, 3), stride=(1, 1), padding=(1, 1))\n",
       "    (8): ReLU(inplace=True)\n",
       "    (9): MaxPool2d(kernel_size=2, stride=2, padding=0, dilation=1, ceil_mode=False)\n",
       "    (10): Conv2d(128, 256, kernel_size=(3, 3), stride=(1, 1), padding=(1, 1))\n",
       "    (11): ReLU(inplace=True)\n",
       "    (12): Conv2d(256, 256, kernel_size=(3, 3), stride=(1, 1), padding=(1, 1))\n",
       "    (13): ReLU(inplace=True)\n",
       "    (14): Conv2d(256, 256, kernel_size=(3, 3), stride=(1, 1), padding=(1, 1))\n",
       "    (15): ReLU(inplace=True)\n",
       "    (16): Conv2d(256, 256, kernel_size=(3, 3), stride=(1, 1), padding=(1, 1))\n",
       "    (17): ReLU(inplace=True)\n",
       "    (18): MaxPool2d(kernel_size=2, stride=2, padding=0, dilation=1, ceil_mode=False)\n",
       "    (19): Conv2d(256, 512, kernel_size=(3, 3), stride=(1, 1), padding=(1, 1))\n",
       "    (20): ReLU(inplace=True)\n",
       "    (21): Conv2d(512, 512, kernel_size=(3, 3), stride=(1, 1), padding=(1, 1))\n",
       "    (22): ReLU(inplace=True)\n",
       "    (23): Conv2d(512, 512, kernel_size=(3, 3), stride=(1, 1), padding=(1, 1))\n",
       "    (24): ReLU(inplace=True)\n",
       "    (25): Conv2d(512, 512, kernel_size=(3, 3), stride=(1, 1), padding=(1, 1))\n",
       "    (26): ReLU(inplace=True)\n",
       "    (27): MaxPool2d(kernel_size=2, stride=2, padding=0, dilation=1, ceil_mode=False)\n",
       "    (28): Conv2d(512, 512, kernel_size=(3, 3), stride=(1, 1), padding=(1, 1))\n",
       "    (29): ReLU(inplace=True)\n",
       "    (30): Conv2d(512, 512, kernel_size=(3, 3), stride=(1, 1), padding=(1, 1))\n",
       "    (31): ReLU(inplace=True)\n",
       "    (32): Conv2d(512, 512, kernel_size=(3, 3), stride=(1, 1), padding=(1, 1))\n",
       "    (33): ReLU(inplace=True)\n",
       "    (34): Conv2d(512, 512, kernel_size=(3, 3), stride=(1, 1), padding=(1, 1))\n",
       "    (35): ReLU(inplace=True)\n",
       "    (36): MaxPool2d(kernel_size=2, stride=2, padding=0, dilation=1, ceil_mode=False)\n",
       "  )\n",
       "  (avgpool): AdaptiveAvgPool2d(output_size=(7, 7))\n",
       "  (classifier): Sequential(\n",
       "    (0): Linear(in_features=25088, out_features=2048, bias=True)\n",
       "    (1): BatchNorm1d(2048, eps=1e-05, momentum=0.1, affine=True, track_running_stats=True)\n",
       "    (2): GELU(approximate='none')\n",
       "    (3): Dropout(p=0.1, inplace=False)\n",
       "    (4): Linear(in_features=2048, out_features=1024, bias=True)\n",
       "    (5): BatchNorm1d(1024, eps=1e-05, momentum=0.1, affine=True, track_running_stats=True)\n",
       "    (6): GELU(approximate='none')\n",
       "    (7): Dropout(p=0.1, inplace=False)\n",
       "    (8): Linear(in_features=1024, out_features=512, bias=True)\n",
       "    (9): BatchNorm1d(512, eps=1e-05, momentum=0.1, affine=True, track_running_stats=True)\n",
       "    (10): GELU(approximate='none')\n",
       "    (11): Dropout(p=0.1, inplace=False)\n",
       "    (12): Linear(in_features=512, out_features=1, bias=True)\n",
       "  )\n",
       ")"
      ]
     },
     "execution_count": 128,
     "metadata": {},
     "output_type": "execute_result"
    }
   ],
   "source": [
    "vgg19.load_state_dict(torch.load(\"mcd_vgg19_0408_b32.pth\", map_location=device))\n",
    "vgg19.eval()"
   ]
  },
  {
   "cell_type": "code",
   "execution_count": 129,
   "metadata": {
    "execution": {
     "iopub.execute_input": "2025-02-12T13:23:22.387436Z",
     "iopub.status.busy": "2025-02-12T13:23:22.387139Z",
     "iopub.status.idle": "2025-02-12T13:23:22.391166Z",
     "shell.execute_reply": "2025-02-12T13:23:22.390138Z",
     "shell.execute_reply.started": "2025-02-12T13:23:22.387412Z"
    },
    "trusted": true
   },
   "outputs": [],
   "source": [
    "test_folder = '/kaggle/input/glioma-mcd-2025/Data_122824/Glioma_MDC_2025_test'"
   ]
  },
  {
   "cell_type": "code",
   "execution_count": 130,
   "metadata": {
    "execution": {
     "iopub.execute_input": "2025-02-12T13:23:23.927364Z",
     "iopub.status.busy": "2025-02-12T13:23:23.926924Z",
     "iopub.status.idle": "2025-02-12T13:23:26.676373Z",
     "shell.execute_reply": "2025-02-12T13:23:26.675540Z",
     "shell.execute_reply.started": "2025-02-12T13:23:23.927327Z"
    },
    "trusted": true
   },
   "outputs": [
    {
     "data": {
      "text/plain": [
       "'Accuracy: 0.9262, Balanced Accuracy: 0.9273, F1 Score: 0.9318, MCC: 0.8519, ROC AUC: 0.9717, Sensitivity: 0.9162, Specificity: 0.9384'"
      ]
     },
     "execution_count": 130,
     "metadata": {},
     "output_type": "execute_result"
    }
   ],
   "source": [
    "val_loss, (val_metrics, val_metrics_str) = evaluate_model(vgg19, val_loader, criterion, device)\n",
    "val_metrics_str"
   ]
  },
  {
   "cell_type": "code",
   "execution_count": 131,
   "metadata": {
    "execution": {
     "iopub.execute_input": "2025-02-12T13:23:32.901852Z",
     "iopub.status.busy": "2025-02-12T13:23:32.901560Z",
     "iopub.status.idle": "2025-02-12T13:23:32.910592Z",
     "shell.execute_reply": "2025-02-12T13:23:32.909576Z",
     "shell.execute_reply.started": "2025-02-12T13:23:32.901828Z"
    },
    "trusted": true
   },
   "outputs": [],
   "source": [
    "class TestMitosisDataset(Dataset):\n",
    "    def __init__(self, test_folder, transform=None):\n",
    "        self.test_folder = test_folder\n",
    "        self.transform = transform\n",
    "\n",
    "        # Get all JSON files\n",
    "        self.json_files = sorted([f for f in os.listdir(test_folder) if f.endswith(\".json\")])\n",
    "    \n",
    "    def __len__(self):\n",
    "        return len(self.json_files)\n",
    "\n",
    "    def __getitem__(self, idx):\n",
    "        json_file = self.json_files[idx]\n",
    "        image_name = json_file.replace(\".json\", \".jpg\")\n",
    "        image_path = os.path.join(self.test_folder, image_name)\n",
    "        json_path = os.path.join(self.test_folder, json_file)\n",
    "        \n",
    "        # Load image\n",
    "        image = Image.open(image_path).convert(\"RGB\")\n",
    "        \n",
    "        # Load JSON\n",
    "        with open(json_path, 'r') as f:\n",
    "            json_data = json.load(f)\n",
    "        \n",
    "        rois = []\n",
    "        label_ids = []\n",
    "        \n",
    "        for i, shape in enumerate(json_data[\"shapes\"]):\n",
    "            points = shape[\"points\"]\n",
    "            label_id = f\"Blank{i+1}\"  # Assign Blank1, Blank2, etc.\n",
    "            \n",
    "            x_min = int(min(p[0] for p in points))\n",
    "            y_min = int(min(p[1] for p in points))\n",
    "            x_max = int(max(p[0] for p in points))\n",
    "            y_max = int(max(p[1] for p in points))\n",
    "\n",
    "            roi = image.crop((x_min, y_min, x_max, y_max))\n",
    "            if self.transform:\n",
    "                roi = self.transform(roi)\n",
    "\n",
    "            rois.append(roi)\n",
    "            label_ids.append(label_id)\n",
    "\n",
    "        return rois, label_ids, image_name\n",
    "\n",
    "def collate_fn_test(batch):\n",
    "    all_rois = []\n",
    "    all_label_ids = []\n",
    "    all_image_ids = []\n",
    "    \n",
    "    for rois, label_ids, image_name in batch:\n",
    "        all_rois.extend(rois)\n",
    "        all_label_ids.extend(label_ids)\n",
    "        all_image_ids.extend([image_name] * len(label_ids))\n",
    "    \n",
    "    all_rois = torch.stack(all_rois)  # Convert list of ROIs to a tensor\n",
    "    \n",
    "    return all_rois, all_image_ids, all_label_ids"
   ]
  },
  {
   "cell_type": "code",
   "execution_count": 132,
   "metadata": {
    "execution": {
     "iopub.execute_input": "2025-02-12T13:23:48.196486Z",
     "iopub.status.busy": "2025-02-12T13:23:48.196192Z",
     "iopub.status.idle": "2025-02-12T13:23:48.200701Z",
     "shell.execute_reply": "2025-02-12T13:23:48.199948Z",
     "shell.execute_reply.started": "2025-02-12T13:23:48.196464Z"
    },
    "trusted": true
   },
   "outputs": [],
   "source": [
    "# Define image transformations\n",
    "test_transform = transforms.Compose([\n",
    "    transforms.Resize((224, 224)),\n",
    "    transforms.ToTensor(),\n",
    "    transforms.Normalize(mean=[0.485, 0.456, 0.406], std=[0.229, 0.224, 0.225])\n",
    "])"
   ]
  },
  {
   "cell_type": "code",
   "execution_count": 133,
   "metadata": {
    "execution": {
     "iopub.execute_input": "2025-02-12T13:23:48.663870Z",
     "iopub.status.busy": "2025-02-12T13:23:48.663572Z",
     "iopub.status.idle": "2025-02-12T13:23:48.669706Z",
     "shell.execute_reply": "2025-02-12T13:23:48.669033Z",
     "shell.execute_reply.started": "2025-02-12T13:23:48.663847Z"
    },
    "trusted": true
   },
   "outputs": [],
   "source": [
    "test_dataset = TestMitosisDataset(test_folder, transform=test_transform)\n",
    "test_loader = DataLoader(test_dataset, batch_size=32, shuffle=False, collate_fn=collate_fn_test)"
   ]
  },
  {
   "cell_type": "code",
   "execution_count": 135,
   "metadata": {
    "execution": {
     "iopub.execute_input": "2025-02-12T13:24:39.955043Z",
     "iopub.status.busy": "2025-02-12T13:24:39.954697Z",
     "iopub.status.idle": "2025-02-12T13:24:46.743566Z",
     "shell.execute_reply": "2025-02-12T13:24:46.742907Z",
     "shell.execute_reply.started": "2025-02-12T13:24:39.955016Z"
    },
    "trusted": true
   },
   "outputs": [],
   "source": [
    "predictions = []\n",
    "\n",
    "with torch.no_grad():\n",
    "    for rois, image_ids, label_ids in test_loader:\n",
    "        rois = rois.to(device)\n",
    "        outputs = vgg19(rois)\n",
    "        preds = (outputs.sigmoid() > 0.5).long().cpu().numpy()  # Convert to 0 or 1\n",
    "        \n",
    "        for img, label, pred in zip(image_ids, label_ids, preds):\n",
    "            predictions.append([img, label, pred.item()])"
   ]
  },
  {
   "cell_type": "code",
   "execution_count": 136,
   "metadata": {
    "execution": {
     "iopub.execute_input": "2025-02-12T13:24:49.006474Z",
     "iopub.status.busy": "2025-02-12T13:24:49.006152Z",
     "iopub.status.idle": "2025-02-12T13:24:49.014814Z",
     "shell.execute_reply": "2025-02-12T13:24:49.014070Z",
     "shell.execute_reply.started": "2025-02-12T13:24:49.006447Z"
    },
    "trusted": true
   },
   "outputs": [],
   "source": [
    "df_pred = pd.DataFrame(predictions, columns=[\"Image ID\", \"Label ID\", \"Prediction\"])\n",
    "df_pred.index += 1  # Row ID starts from 1\n",
    "df_pred.to_csv(\"/kaggle/working/mcd_vgg19_predictions6.csv\", index_label=\"Row ID\")"
   ]
  },
  {
   "cell_type": "code",
   "execution_count": 137,
   "metadata": {
    "execution": {
     "iopub.execute_input": "2025-02-12T13:24:54.481849Z",
     "iopub.status.busy": "2025-02-12T13:24:54.481518Z",
     "iopub.status.idle": "2025-02-12T13:24:54.491226Z",
     "shell.execute_reply": "2025-02-12T13:24:54.490412Z",
     "shell.execute_reply.started": "2025-02-12T13:24:54.481820Z"
    },
    "trusted": true
   },
   "outputs": [
    {
     "data": {
      "text/html": [
       "<div>\n",
       "<style scoped>\n",
       "    .dataframe tbody tr th:only-of-type {\n",
       "        vertical-align: middle;\n",
       "    }\n",
       "\n",
       "    .dataframe tbody tr th {\n",
       "        vertical-align: top;\n",
       "    }\n",
       "\n",
       "    .dataframe thead th {\n",
       "        text-align: right;\n",
       "    }\n",
       "</style>\n",
       "<table border=\"1\" class=\"dataframe\">\n",
       "  <thead>\n",
       "    <tr style=\"text-align: right;\">\n",
       "      <th></th>\n",
       "      <th>Image ID</th>\n",
       "      <th>Label ID</th>\n",
       "      <th>Prediction</th>\n",
       "    </tr>\n",
       "  </thead>\n",
       "  <tbody>\n",
       "    <tr>\n",
       "      <th>1</th>\n",
       "      <td>testing0001.jpg</td>\n",
       "      <td>Blank1</td>\n",
       "      <td>1</td>\n",
       "    </tr>\n",
       "    <tr>\n",
       "      <th>2</th>\n",
       "      <td>testing0001.jpg</td>\n",
       "      <td>Blank2</td>\n",
       "      <td>0</td>\n",
       "    </tr>\n",
       "    <tr>\n",
       "      <th>3</th>\n",
       "      <td>testing0001.jpg</td>\n",
       "      <td>Blank3</td>\n",
       "      <td>0</td>\n",
       "    </tr>\n",
       "    <tr>\n",
       "      <th>4</th>\n",
       "      <td>testing0001.jpg</td>\n",
       "      <td>Blank4</td>\n",
       "      <td>0</td>\n",
       "    </tr>\n",
       "    <tr>\n",
       "      <th>5</th>\n",
       "      <td>testing0001.jpg</td>\n",
       "      <td>Blank5</td>\n",
       "      <td>0</td>\n",
       "    </tr>\n",
       "    <tr>\n",
       "      <th>...</th>\n",
       "      <td>...</td>\n",
       "      <td>...</td>\n",
       "      <td>...</td>\n",
       "    </tr>\n",
       "    <tr>\n",
       "      <th>1440</th>\n",
       "      <td>testing0200.jpg</td>\n",
       "      <td>Blank3</td>\n",
       "      <td>0</td>\n",
       "    </tr>\n",
       "    <tr>\n",
       "      <th>1441</th>\n",
       "      <td>testing0200.jpg</td>\n",
       "      <td>Blank4</td>\n",
       "      <td>0</td>\n",
       "    </tr>\n",
       "    <tr>\n",
       "      <th>1442</th>\n",
       "      <td>testing0200.jpg</td>\n",
       "      <td>Blank5</td>\n",
       "      <td>0</td>\n",
       "    </tr>\n",
       "    <tr>\n",
       "      <th>1443</th>\n",
       "      <td>testing0200.jpg</td>\n",
       "      <td>Blank6</td>\n",
       "      <td>0</td>\n",
       "    </tr>\n",
       "    <tr>\n",
       "      <th>1444</th>\n",
       "      <td>testing0200.jpg</td>\n",
       "      <td>Blank7</td>\n",
       "      <td>0</td>\n",
       "    </tr>\n",
       "  </tbody>\n",
       "</table>\n",
       "<p>1444 rows × 3 columns</p>\n",
       "</div>"
      ],
      "text/plain": [
       "             Image ID Label ID  Prediction\n",
       "1     testing0001.jpg   Blank1           1\n",
       "2     testing0001.jpg   Blank2           0\n",
       "3     testing0001.jpg   Blank3           0\n",
       "4     testing0001.jpg   Blank4           0\n",
       "5     testing0001.jpg   Blank5           0\n",
       "...               ...      ...         ...\n",
       "1440  testing0200.jpg   Blank3           0\n",
       "1441  testing0200.jpg   Blank4           0\n",
       "1442  testing0200.jpg   Blank5           0\n",
       "1443  testing0200.jpg   Blank6           0\n",
       "1444  testing0200.jpg   Blank7           0\n",
       "\n",
       "[1444 rows x 3 columns]"
      ]
     },
     "execution_count": 137,
     "metadata": {},
     "output_type": "execute_result"
    }
   ],
   "source": [
    "df_pred"
   ]
  },
  {
   "cell_type": "code",
   "execution_count": 138,
   "metadata": {
    "execution": {
     "iopub.execute_input": "2025-02-12T13:24:58.661290Z",
     "iopub.status.busy": "2025-02-12T13:24:58.660930Z",
     "iopub.status.idle": "2025-02-12T13:24:58.667820Z",
     "shell.execute_reply": "2025-02-12T13:24:58.666936Z",
     "shell.execute_reply.started": "2025-02-12T13:24:58.661262Z"
    },
    "trusted": true
   },
   "outputs": [
    {
     "data": {
      "text/plain": [
       "Prediction\n",
       "0    1276\n",
       "1     168\n",
       "Name: count, dtype: int64"
      ]
     },
     "execution_count": 138,
     "metadata": {},
     "output_type": "execute_result"
    }
   ],
   "source": [
    "df_pred['Prediction'].value_counts()"
   ]
  }
 ],
 "metadata": {
  "kaggle": {
   "accelerator": "gpu",
   "dataSources": [
    {
     "databundleVersionId": 10627580,
     "sourceId": 90095,
     "sourceType": "competition"
    }
   ],
   "dockerImageVersionId": 30887,
   "isGpuEnabled": true,
   "isInternetEnabled": true,
   "language": "python",
   "sourceType": "notebook"
  },
  "kernelspec": {
   "display_name": "Python 3",
   "language": "python",
   "name": "python3"
  },
  "language_info": {
   "codemirror_mode": {
    "name": "ipython",
    "version": 3
   },
   "file_extension": ".py",
   "mimetype": "text/x-python",
   "name": "python",
   "nbconvert_exporter": "python",
   "pygments_lexer": "ipython3",
   "version": "3.10.12"
  }
 },
 "nbformat": 4,
 "nbformat_minor": 4
}
